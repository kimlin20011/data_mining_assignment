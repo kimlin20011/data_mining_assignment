{
 "metadata": {
  "language_info": {
   "codemirror_mode": {
    "name": "ipython",
    "version": 3
   },
   "file_extension": ".py",
   "mimetype": "text/x-python",
   "name": "python",
   "nbconvert_exporter": "python",
   "pygments_lexer": "ipython3",
   "version": "3.7.6"
  },
  "orig_nbformat": 2,
  "kernelspec": {
   "name": "python376jvsc74a57bd0b880abc8b3f3cf48da69e840f01b5f6c3b3cdd024dd9490e2cb526f6778fe7ed",
   "display_name": "Python 3.7.6 64-bit ('base': conda)"
  }
 },
 "nbformat": 4,
 "nbformat_minor": 2,
 "cells": [
  {
   "cell_type": "code",
   "execution_count": 29,
   "metadata": {},
   "outputs": [],
   "source": [
    "#Logistic Regression\n",
    "#雖然名為迴歸，但常⽤於分類（⼆元或多類別）\n",
    "from sklearn import preprocessing, linear_model\n",
    "import pandas as pd\n",
    "import pandas as pd\n",
    "import numpy as np\n",
    "import matplotlib.pyplot as plt\n",
    "from sklearn.model_selection  import train_test_split\n",
    "plt.style.use('ggplot')\n",
    "plt.rcParams['font.family']='SimHei' #⿊體"
   ]
  },
  {
   "cell_type": "code",
   "execution_count": 30,
   "metadata": {},
   "outputs": [
    {
     "output_type": "execute_result",
     "data": {
      "text/plain": [
       "   temperature  humidity play\n",
       "0           85        85   no\n",
       "1           80        90   no\n",
       "2           83        86  yes\n",
       "3           70        96  yes\n",
       "4           68        80  yes"
      ],
      "text/html": "<div>\n<style scoped>\n    .dataframe tbody tr th:only-of-type {\n        vertical-align: middle;\n    }\n\n    .dataframe tbody tr th {\n        vertical-align: top;\n    }\n\n    .dataframe thead th {\n        text-align: right;\n    }\n</style>\n<table border=\"1\" class=\"dataframe\">\n  <thead>\n    <tr style=\"text-align: right;\">\n      <th></th>\n      <th>temperature</th>\n      <th>humidity</th>\n      <th>play</th>\n    </tr>\n  </thead>\n  <tbody>\n    <tr>\n      <th>0</th>\n      <td>85</td>\n      <td>85</td>\n      <td>no</td>\n    </tr>\n    <tr>\n      <th>1</th>\n      <td>80</td>\n      <td>90</td>\n      <td>no</td>\n    </tr>\n    <tr>\n      <th>2</th>\n      <td>83</td>\n      <td>86</td>\n      <td>yes</td>\n    </tr>\n    <tr>\n      <th>3</th>\n      <td>70</td>\n      <td>96</td>\n      <td>yes</td>\n    </tr>\n    <tr>\n      <th>4</th>\n      <td>68</td>\n      <td>80</td>\n      <td>yes</td>\n    </tr>\n  </tbody>\n</table>\n</div>"
     },
     "metadata": {},
     "execution_count": 30
    }
   ],
   "source": [
    "df2=pd.read_csv(\"weather.csv\",encoding=\"utf-8\") #鐵達尼\n",
    "df3=df2[['temperature','humidity', 'play']]                   \n",
    "df3.head()"
   ]
  },
  {
   "cell_type": "code",
   "execution_count": 32,
   "metadata": {},
   "outputs": [
    {
     "output_type": "stream",
     "name": "stderr",
     "text": [
      "ipykernel_launcher:4: SettingWithCopyWarning: \nA value is trying to be set on a copy of a slice from a DataFrame.\nTry using .loc[row_indexer,col_indexer] = value instead\n\nSee the caveats in the documentation: https://pandas.pydata.org/pandas-docs/stable/user_guide/indexing.html#returning-a-view-versus-a-copy\n"
     ]
    },
    {
     "output_type": "execute_result",
     "data": {
      "text/plain": [
       "   temperature  humidity  play\n",
       "0           85        85     0\n",
       "1           80        90     0\n",
       "2           83        86     1\n",
       "3           70        96     1\n",
       "4           68        80     1"
      ],
      "text/html": "<div>\n<style scoped>\n    .dataframe tbody tr th:only-of-type {\n        vertical-align: middle;\n    }\n\n    .dataframe tbody tr th {\n        vertical-align: top;\n    }\n\n    .dataframe thead th {\n        text-align: right;\n    }\n</style>\n<table border=\"1\" class=\"dataframe\">\n  <thead>\n    <tr style=\"text-align: right;\">\n      <th></th>\n      <th>temperature</th>\n      <th>humidity</th>\n      <th>play</th>\n    </tr>\n  </thead>\n  <tbody>\n    <tr>\n      <th>0</th>\n      <td>85</td>\n      <td>85</td>\n      <td>0</td>\n    </tr>\n    <tr>\n      <th>1</th>\n      <td>80</td>\n      <td>90</td>\n      <td>0</td>\n    </tr>\n    <tr>\n      <th>2</th>\n      <td>83</td>\n      <td>86</td>\n      <td>1</td>\n    </tr>\n    <tr>\n      <th>3</th>\n      <td>70</td>\n      <td>96</td>\n      <td>1</td>\n    </tr>\n    <tr>\n      <th>4</th>\n      <td>68</td>\n      <td>80</td>\n      <td>1</td>\n    </tr>\n  </tbody>\n</table>\n</div>"
     },
     "metadata": {},
     "execution_count": 32
    }
   ],
   "source": [
    "# 創造 dummy variables （假資料）  將windy outlook轉換成 0，1\n",
    "label_encoder = preprocessing.LabelEncoder()\n",
    "encoded_play = label_encoder.fit_transform(df3[\"play\"])\n",
    "df3[\"play\"]=encoded_play\n",
    "df3.head()"
   ]
  },
  {
   "cell_type": "code",
   "execution_count": 33,
   "metadata": {},
   "outputs": [
    {
     "output_type": "execute_result",
     "data": {
      "text/plain": [
       "    temperature  humidity\n",
       "7            72        95\n",
       "12           81        75\n",
       "5            65        70\n",
       "4            68        80\n",
       "6            64        65\n",
       "3            70        96\n",
       "10           75        70"
      ],
      "text/html": "<div>\n<style scoped>\n    .dataframe tbody tr th:only-of-type {\n        vertical-align: middle;\n    }\n\n    .dataframe tbody tr th {\n        vertical-align: top;\n    }\n\n    .dataframe thead th {\n        text-align: right;\n    }\n</style>\n<table border=\"1\" class=\"dataframe\">\n  <thead>\n    <tr style=\"text-align: right;\">\n      <th></th>\n      <th>temperature</th>\n      <th>humidity</th>\n    </tr>\n  </thead>\n  <tbody>\n    <tr>\n      <th>7</th>\n      <td>72</td>\n      <td>95</td>\n    </tr>\n    <tr>\n      <th>12</th>\n      <td>81</td>\n      <td>75</td>\n    </tr>\n    <tr>\n      <th>5</th>\n      <td>65</td>\n      <td>70</td>\n    </tr>\n    <tr>\n      <th>4</th>\n      <td>68</td>\n      <td>80</td>\n    </tr>\n    <tr>\n      <th>6</th>\n      <td>64</td>\n      <td>65</td>\n    </tr>\n    <tr>\n      <th>3</th>\n      <td>70</td>\n      <td>96</td>\n    </tr>\n    <tr>\n      <th>10</th>\n      <td>75</td>\n      <td>70</td>\n    </tr>\n  </tbody>\n</table>\n</div>"
     },
     "metadata": {},
     "execution_count": 33
    }
   ],
   "source": [
    "#切分訓練 測試資料\n",
    "x=df3[['temperature','humidity']]\n",
    "y=df3[['play']]\n",
    "\n",
    "x_train,x_test,y_train,y_test=train_test_split(x,y,test_size=0.5,random_state=20210627) #random_state 種子值\n",
    "\n",
    "x_train\n",
    "#x_test\n"
   ]
  },
  {
   "cell_type": "code",
   "execution_count": 36,
   "metadata": {},
   "outputs": [],
   "source": [
    "#標準化 :為了避免偏向某個變數去做訓練\n",
    "from sklearn.preprocessing  import StandardScaler\n",
    "sc=StandardScaler()\n",
    "\n",
    "sc.fit(x_train)\n",
    "\n",
    "x_train_nor=sc.transform(x_train)\n",
    "x_test_nor=sc.transform(x_test)"
   ]
  },
  {
   "cell_type": "code",
   "execution_count": 35,
   "metadata": {},
   "outputs": [
    {
     "output_type": "stream",
     "name": "stdout",
     "text": [
      "coefficient(W1, W2): [[ 0.39434134 -0.31218617]]\n",
      "intercept(W0):  [0.96376611]\n",
      "/Users/linjunan/opt/anaconda3/lib/python3.7/site-packages/sklearn/utils/validation.py:63: DataConversionWarning: A column-vector y was passed when a 1d array was expected. Please change the shape of y to (n_samples, ), for example using ravel().\n",
      "  return f(*args, **kwargs)\n"
     ]
    }
   ],
   "source": [
    "#訓練資料分類效果(3個參數)\n",
    "from sklearn.linear_model  import LogisticRegression\n",
    "lr=LogisticRegression()\n",
    "lr.fit(x_train_nor,y_train)\n",
    "\n",
    "# 印出係數\n",
    "print(\"coefficient(W1, W2):\",lr.coef_)\n",
    "# 印出截距\n",
    "print(\"intercept(W0): \",lr.intercept_ )"
   ]
  },
  {
   "cell_type": "code",
   "execution_count": 37,
   "metadata": {},
   "outputs": [
    {
     "output_type": "stream",
     "name": "stdout",
     "text": [
      "Probability of play [no yes] :\n\n"
     ]
    },
    {
     "output_type": "execute_result",
     "data": {
      "text/plain": [
       "array([[0.352, 0.648],\n",
       "       [0.141, 0.859],\n",
       "       [0.312, 0.688],\n",
       "       [0.324, 0.676],\n",
       "       [0.298, 0.702],\n",
       "       [0.391, 0.609],\n",
       "       [0.181, 0.819]])"
      ]
     },
     "metadata": {},
     "execution_count": 37
    }
   ],
   "source": [
    "#機率分類判斷\n",
    "import numpy as np\n",
    "print(\"Probability of play [no yes] :\\n\")\n",
    "np.round(lr.predict_proba(x_train_nor),3)"
   ]
  },
  {
   "cell_type": "code",
   "execution_count": null,
   "metadata": {},
   "outputs": [],
   "source": []
  }
 ]
}